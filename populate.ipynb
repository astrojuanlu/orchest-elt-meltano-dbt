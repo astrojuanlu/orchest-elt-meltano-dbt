{
 "cells": [
  {
   "cell_type": "code",
   "execution_count": null,
   "id": "a0c8521d-e14c-4fb3-bd7a-d86ce852509a",
   "metadata": {
    "tags": []
   },
   "outputs": [],
   "source": [
    "import pandas as pd\n",
    "from sqlalchemy import create_engine\n",
    "\n",
    "import orchest"
   ]
  },
  {
   "cell_type": "code",
   "execution_count": null,
   "id": "c644c765-9fce-422d-98ed-d7f608a10e17",
   "metadata": {
    "tags": []
   },
   "outputs": [],
   "source": [
    "postgres_config = orchest.get_service(\"postgres\")\n",
    "internal_hostname = postgres_config['internal_hostname']"
   ]
  },
  {
   "cell_type": "code",
   "execution_count": null,
   "id": "41555bcb-064f-471f-a2c3-546f60b5f69e",
   "metadata": {
    "tags": []
   },
   "outputs": [],
   "source": [
    "connection_string = f\"postgresql://postgres:@{internal_hostname}/postgres\""
   ]
  },
  {
   "cell_type": "code",
   "execution_count": null,
   "id": "54f42990-5c5e-4a2f-a541-2d6f35a5755a",
   "metadata": {
    "tags": []
   },
   "outputs": [],
   "source": [
    "engine = create_engine(connection_string, echo=True)\n",
    "engine"
   ]
  },
  {
   "cell_type": "code",
   "execution_count": null,
   "id": "92863a7c-ec62-4420-af81-12d464318c7b",
   "metadata": {
    "tags": []
   },
   "outputs": [],
   "source": [
    "df = pd.read_csv(\"sources/summary-names.csv\")\n",
    "df.head()"
   ]
  },
  {
   "cell_type": "code",
   "execution_count": null,
   "id": "f9c6e5b1-58ea-4070-a168-68aa10fa1940",
   "metadata": {
    "tags": []
   },
   "outputs": [],
   "source": [
    "df.to_sql(\"names_us\", con=engine, index=False, if_exists=\"replace\")"
   ]
  },
  {
   "cell_type": "code",
   "execution_count": null,
   "id": "754e5099-08d5-4f26-90fa-3b953c9806e6",
   "metadata": {
    "tags": []
   },
   "outputs": [],
   "source": [
    "%load_ext sql"
   ]
  },
  {
   "cell_type": "code",
   "execution_count": null,
   "id": "db1c1af0-4a8e-4f26-a29c-69b473313be6",
   "metadata": {
    "tags": []
   },
   "outputs": [],
   "source": [
    "%sql $connection_string"
   ]
  },
  {
   "cell_type": "code",
   "execution_count": null,
   "id": "bd1ae9ee-2cda-4399-a52d-370e63a45ed1",
   "metadata": {
    "tags": []
   },
   "outputs": [],
   "source": [
    "%%sql\n",
    "SELECT * FROM names_us LIMIT 5"
   ]
  },
  {
   "cell_type": "code",
   "execution_count": null,
   "id": "d853451a-d64c-4038-91c9-c48a91b217a7",
   "metadata": {
    "tags": []
   },
   "outputs": [],
   "source": [
    "%cd meltano"
   ]
  },
  {
   "cell_type": "code",
   "execution_count": null,
   "id": "e410159c-4490-425d-a3a4-da525511d7e6",
   "metadata": {
    "tags": []
   },
   "outputs": [],
   "source": [
    "!meltano config tap-postgres set host $internal_hostname"
   ]
  }
 ],
 "metadata": {
  "kernelspec": {
   "display_name": "Python 3",
   "language": "python",
   "name": "orchest-kernel-4e279dc9-901e-4ec9-a20a-86ce342bc3a4"
  },
  "language_info": {
   "codemirror_mode": {
    "name": "ipython",
    "version": 3
   },
   "file_extension": ".py",
   "mimetype": "text/x-python",
   "name": "python",
   "nbconvert_exporter": "python",
   "pygments_lexer": "ipython3",
   "version": "3.9.10"
  }
 },
 "nbformat": 4,
 "nbformat_minor": 5
}
